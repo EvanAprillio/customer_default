{
 "cells": [
  {
   "cell_type": "code",
   "execution_count": 1,
   "metadata": {},
   "outputs": [],
   "source": [
    "#Import Library\n",
    "import pickle\n",
    "import json\n",
    "import pandas as pd\n",
    "import numpy as np"
   ]
  },
  {
   "attachments": {},
   "cell_type": "markdown",
   "metadata": {},
   "source": [
    "### 1. Perkenalan\n",
    "Nama:Evan Aprillio B    \n",
    "Batch:RMT-019  \n",
    "Objective:Membuat inferencing data"
   ]
  },
  {
   "attachments": {},
   "cell_type": "markdown",
   "metadata": {},
   "source": [
    "### 2. Inferencing Data"
   ]
  },
  {
   "cell_type": "code",
   "execution_count": 2,
   "metadata": {},
   "outputs": [],
   "source": [
    "#Load All Files\n",
    "with open('model_nb_best.pkl', 'rb') as file_1:\n",
    "  model_nb_best = pickle.load(file_1)\n",
    "\n",
    "with open('model_scaler_standard.pkl', 'rb') as file_2:\n",
    "  model_scaler_standard = pickle.load(file_2)\n",
    "\n",
    "with open('list_scale_columns.txt', 'r') as file_3:\n",
    "  list_scale_columns = json.load(file_3)\n",
    "\n",
    "with open('list_norm_columns.txt', 'r') as file_4:\n",
    "  list_norm_columns = json.load(file_4)"
   ]
  },
  {
   "cell_type": "code",
   "execution_count": 3,
   "metadata": {},
   "outputs": [
    {
     "data": {
      "text/html": [
       "<div>\n",
       "<style scoped>\n",
       "    .dataframe tbody tr th:only-of-type {\n",
       "        vertical-align: middle;\n",
       "    }\n",
       "\n",
       "    .dataframe tbody tr th {\n",
       "        vertical-align: top;\n",
       "    }\n",
       "\n",
       "    .dataframe thead th {\n",
       "        text-align: right;\n",
       "    }\n",
       "</style>\n",
       "<table border=\"1\" class=\"dataframe\">\n",
       "  <thead>\n",
       "    <tr style=\"text-align: right;\">\n",
       "      <th></th>\n",
       "      <th>limit_balance</th>\n",
       "      <th>sex</th>\n",
       "      <th>education_level</th>\n",
       "      <th>marital_status</th>\n",
       "      <th>age</th>\n",
       "      <th>pay_0</th>\n",
       "      <th>pay_2</th>\n",
       "      <th>pay_3</th>\n",
       "      <th>pay_4</th>\n",
       "      <th>pay_5</th>\n",
       "      <th>...</th>\n",
       "      <th>bill_amt_3</th>\n",
       "      <th>bill_amt_4</th>\n",
       "      <th>bill_amt_5</th>\n",
       "      <th>bill_amt_6</th>\n",
       "      <th>pay_amt_1</th>\n",
       "      <th>pay_amt_2</th>\n",
       "      <th>pay_amt_3</th>\n",
       "      <th>pay_amt_4</th>\n",
       "      <th>pay_amt_5</th>\n",
       "      <th>pay_amt_6</th>\n",
       "    </tr>\n",
       "  </thead>\n",
       "  <tbody>\n",
       "    <tr>\n",
       "      <th>0</th>\n",
       "      <td>200000</td>\n",
       "      <td>1</td>\n",
       "      <td>6</td>\n",
       "      <td>1</td>\n",
       "      <td>33</td>\n",
       "      <td>-1</td>\n",
       "      <td>3</td>\n",
       "      <td>2</td>\n",
       "      <td>1</td>\n",
       "      <td>5</td>\n",
       "      <td>...</td>\n",
       "      <td>500</td>\n",
       "      <td>8600</td>\n",
       "      <td>52</td>\n",
       "      <td>390</td>\n",
       "      <td>720</td>\n",
       "      <td>125000</td>\n",
       "      <td>2200</td>\n",
       "      <td>590</td>\n",
       "      <td>11000</td>\n",
       "      <td>780</td>\n",
       "    </tr>\n",
       "  </tbody>\n",
       "</table>\n",
       "<p>1 rows × 23 columns</p>\n",
       "</div>"
      ],
      "text/plain": [
       "   limit_balance  sex  education_level  marital_status  age  pay_0  pay_2  \\\n",
       "0         200000    1                6               1   33     -1      3   \n",
       "\n",
       "   pay_3  pay_4  pay_5  ...  bill_amt_3  bill_amt_4  bill_amt_5  bill_amt_6  \\\n",
       "0      2      1      5  ...         500        8600          52         390   \n",
       "\n",
       "   pay_amt_1  pay_amt_2  pay_amt_3  pay_amt_4  pay_amt_5  pay_amt_6  \n",
       "0        720     125000       2200        590      11000        780  \n",
       "\n",
       "[1 rows x 23 columns]"
      ]
     },
     "execution_count": 3,
     "metadata": {},
     "output_type": "execute_result"
    }
   ],
   "source": [
    "# Create New Data\n",
    "data_inf = {\n",
    "    'limit_balance': 200000,\n",
    "    'sex': 1,\n",
    "    'education_level':6,\n",
    "    'marital_status':1,\n",
    "    'age': 33,\n",
    "    'pay_0': -1,\n",
    "    'pay_2':  3,\n",
    "    'pay_3': 2,\n",
    "    'pay_4': 1,\n",
    "    'pay_5': 5,\n",
    "    'pay_6': 6,\n",
    "    'bill_amt_1': 6550,\n",
    "    'bill_amt_2': 200,\n",
    "    'bill_amt_3': 500,\n",
    "    'bill_amt_4': 8600,\n",
    "    'bill_amt_5': 52,\n",
    "    'bill_amt_6': 390,\n",
    "    'pay_amt_1': 720,\n",
    "    'pay_amt_2': 125000,\n",
    "    'pay_amt_3': 2200,\n",
    "    'pay_amt_4': 590,\n",
    "    'pay_amt_5': 11000,\n",
    "    'pay_amt_6': 780\n",
    "}\n",
    "\n",
    "data_inf = pd.DataFrame([data_inf])\n",
    "data_inf"
   ]
  },
  {
   "cell_type": "code",
   "execution_count": 5,
   "metadata": {},
   "outputs": [],
   "source": [
    "data_inf_scale = data_inf[list_scale_columns]\n",
    "data_inf_non_scale=data_inf[list_norm_columns]"
   ]
  },
  {
   "cell_type": "code",
   "execution_count": 6,
   "metadata": {},
   "outputs": [],
   "source": [
    "# Feature Scaling\n",
    "data_inf_scaled = model_scaler_standard.transform(data_inf_scale)"
   ]
  },
  {
   "cell_type": "code",
   "execution_count": 7,
   "metadata": {},
   "outputs": [],
   "source": [
    "#concat antara data scaled dan non scaled\n",
    "data_inf_final = np.concatenate([data_inf_scaled, data_inf_non_scale], axis=1)"
   ]
  },
  {
   "cell_type": "code",
   "execution_count": 11,
   "metadata": {},
   "outputs": [
    {
     "name": "stdout",
     "output_type": "stream",
     "text": [
      "default_next_month : [0]\n"
     ]
    }
   ],
   "source": [
    "#Predict using NB\n",
    "y_pred_nb_inf = model_nb_best.predict(data_inf_final)\n",
    "print(\"default_next_month :\",y_pred_nb_inf)"
   ]
  },
  {
   "attachments": {},
   "cell_type": "markdown",
   "metadata": {},
   "source": [
    "### Kesimpulan\n",
    "\n",
    "Berdasarkan hasil inferencing data dummy memiliki nilai prediksi 0 atau tidak akan default. tetapi sesuai dengan kesimpulan saat pembuatan model maka customer yang memiliki data ini harus ditelusuri lebih dalam lagi dan pengambilan keputusanya untuk customer ini diterima atau tidak creditnya, tidak bisa diputuskan hanya menggunakan nilai prediksi dari model ini saja"
   ]
  }
 ],
 "metadata": {
  "kernelspec": {
   "display_name": "base",
   "language": "python",
   "name": "python3"
  },
  "language_info": {
   "codemirror_mode": {
    "name": "ipython",
    "version": 3
   },
   "file_extension": ".py",
   "mimetype": "text/x-python",
   "name": "python",
   "nbconvert_exporter": "python",
   "pygments_lexer": "ipython3",
   "version": "3.9.13"
  },
  "orig_nbformat": 4
 },
 "nbformat": 4,
 "nbformat_minor": 2
}
